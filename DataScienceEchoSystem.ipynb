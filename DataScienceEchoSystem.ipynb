{
 "cells": [
  {
   "cell_type": "markdown",
   "id": "27a15e12-4fa3-46c5-85a0-083a49bf20da",
   "metadata": {},
   "source": [
    "# Data Science Tools and Ecosystem"
   ]
  },
  {
   "cell_type": "markdown",
   "id": "b7d6d155-ca8c-48c1-b9e0-e19f7e068dff",
   "metadata": {},
   "source": [
    "In this notebook, Data Science Tools and Ecosystem are summarized."
   ]
  },
  {
   "cell_type": "markdown",
   "id": "8ace8b4a-de9b-4826-a8a6-5ec2ac3281fc",
   "metadata": {},
   "source": [
    "**Objectives:**\n",
    "- Python\n",
    "- R\n",
    "- SQL\n",
    "- Julia\n",
    "- Scala"
   ]
  },
  {
   "cell_type": "markdown",
   "id": "f77f386f-5ae5-4522-8e9e-a2329fcc8eb9",
   "metadata": {},
   "source": [
    "Some of the popular languages that Data Scientists use are:\n",
    "1. Python\n",
    "2. R\n",
    "3. SQL"
   ]
  },
  {
   "cell_type": "markdown",
   "id": "c555cc18-6354-4bd7-a9c6-b4031ada84f0",
   "metadata": {},
   "source": [
    "\n",
    "1. Scientific Computing Libraries in Python\n",
    "2. visualization Libraries in Python\n",
    "3. High-Level- Machine Learning and Deep Learning Libraries\n"
   ]
  },
  {
   "cell_type": "markdown",
   "id": "47375401-23a6-4c9e-b8d9-f0fccef7f187",
   "metadata": {},
   "source": [
    "| Data Science Tools|\n",
    "| ------------------|\n",
    "| Jupitor           |\n",
    "| R Studio          |\n",
    "| Appache Zeppline  |"
   ]
  },
  {
   "cell_type": "markdown",
   "id": "352a4be9-8d66-4317-bf3d-1485daf0951b",
   "metadata": {},
   "source": [
    "### Below are a few examples of evaluating arithmetic expressions in Python"
   ]
  },
  {
   "cell_type": "code",
   "execution_count": 4,
   "id": "1d768f32-dd5d-405f-a94a-35aa978812e0",
   "metadata": {
    "tags": []
   },
   "outputs": [
    {
     "data": {
      "text/plain": [
       "17"
      ]
     },
     "execution_count": 4,
     "metadata": {},
     "output_type": "execute_result"
    }
   ],
   "source": [
    "# This a simple arithmetic expression to mutiply then add integers\n",
    "(3*4)+5"
   ]
  },
  {
   "cell_type": "code",
   "execution_count": 5,
   "id": "5605765b-bd07-4b72-b62d-50dc99402617",
   "metadata": {
    "tags": []
   },
   "outputs": [
    {
     "data": {
      "text/plain": [
       "3.3333333333333335"
      ]
     },
     "execution_count": 5,
     "metadata": {},
     "output_type": "execute_result"
    }
   ],
   "source": [
    "# This will convert 200 minutes to hours by diving by 60\n",
    "200/60"
   ]
  },
  {
   "cell_type": "markdown",
   "id": "632b49a6-6234-4ff8-81d2-7beb8aa2038d",
   "metadata": {},
   "source": [
    "## Author\n",
    "   Tauqeer"
   ]
  },
  {
   "cell_type": "code",
   "execution_count": null,
   "id": "234d23f3-9e41-4041-abad-ebca1248b8d0",
   "metadata": {},
   "outputs": [],
   "source": []
  }
 ],
 "metadata": {
  "kernelspec": {
   "display_name": "Python",
   "language": "python",
   "name": "conda-env-python-py"
  },
  "language_info": {
   "codemirror_mode": {
    "name": "ipython",
    "version": 3
   },
   "file_extension": ".py",
   "mimetype": "text/x-python",
   "name": "python",
   "nbconvert_exporter": "python",
   "pygments_lexer": "ipython3",
   "version": "3.7.12"
  }
 },
 "nbformat": 4,
 "nbformat_minor": 5
}
